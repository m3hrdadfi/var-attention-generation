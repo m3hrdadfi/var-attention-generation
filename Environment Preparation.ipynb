{
 "cells": [
  {
   "cell_type": "markdown",
   "metadata": {},
   "source": [
    "# Kill the services (on google colab)"
   ]
  },
  {
   "cell_type": "code",
   "execution_count": 1,
   "metadata": {},
   "outputs": [],
   "source": [
    "# !kill -9 -1"
   ]
  },
  {
   "cell_type": "markdown",
   "metadata": {},
   "source": [
    "# Requirements"
   ]
  },
  {
   "cell_type": "code",
   "execution_count": null,
   "metadata": {},
   "outputs": [],
   "source": [
    "!pip install -U -q xlrd\n",
    "!pip install -U -q nltk\n",
    "!pip install -U -q gensim\n",
    "!pip install -U -q scikit-learn\n",
    "!pip install -U -q openpyxl\n",
    "!pip install -U -q keras\n",
    "!pip install -U -q numpy==1.14.5\n",
    "!pip install -U -q pandas\n",
    "!pip install -U -q matplotlib\n",
    "!pip install -U -q seaborn\n",
    "!pip install -U -q tqdm\n",
    "!pip install -U -q python-slugify"
   ]
  },
  {
   "cell_type": "code",
   "execution_count": null,
   "metadata": {},
   "outputs": [],
   "source": [
    "# OpenCV\n",
    "!apt-get -qq install -y libsm6 libxext6 && pip install -q -U opencv-python\n",
    "\n",
    "# GraphViz\n",
    "!apt-get -qq install -y graphviz && pip install -q pydot\n",
    "\n",
    "# 7zip\n",
    "!apt-get -qq install -y libarchive-dev && pip install -q -U libarchive\n",
    "\n",
    "# rar\n",
    "!apt-get -qq install -y unrar"
   ]
  },
  {
   "cell_type": "code",
   "execution_count": null,
   "metadata": {},
   "outputs": [],
   "source": [
    "!python -m nltk.downloader all"
   ]
  },
  {
   "cell_type": "code",
   "execution_count": null,
   "metadata": {},
   "outputs": [],
   "source": []
  }
 ],
 "metadata": {
  "kernelspec": {
   "display_name": "Python3 (AI)",
   "language": "python",
   "name": "ai"
  },
  "language_info": {
   "codemirror_mode": {
    "name": "ipython",
    "version": 3
   },
   "file_extension": ".py",
   "mimetype": "text/x-python",
   "name": "python",
   "nbconvert_exporter": "python",
   "pygments_lexer": "ipython3",
   "version": "3.5.6"
  }
 },
 "nbformat": 4,
 "nbformat_minor": 2
}
