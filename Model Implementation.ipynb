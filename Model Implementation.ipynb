{
 "cells": [
  {
   "cell_type": "markdown",
   "metadata": {},
   "source": [
    "# Environment Preparation.ipynb"
   ]
  },
  {
   "cell_type": "markdown",
   "metadata": {},
   "source": [
    "# Importing Packages"
   ]
  },
  {
   "cell_type": "code",
   "execution_count": null,
   "metadata": {},
   "outputs": [],
   "source": [
    "from tensorflow.python.client import device_lib\n",
    "\n",
    "import matplotlib\n",
    "import matplotlib.pyplot as plt\n",
    "\n",
    "import numpy as np\n",
    "import pandas as pd\n",
    "\n",
    "import os\n",
    "import re\n",
    "import sys\n",
    "import warnings\n",
    "from slugify import slugify\n",
    "import textwrap\n",
    "import unicodedata\n",
    "from IPython.display import SVG\n",
    "\n",
    "plt.style.use('fivethirtyeight')\n",
    "%matplotlib inline\n",
    "print(device_lib.list_local_devices())\n",
    "\n",
    "\n",
    "wrapper = textwrap.TextWrapper(width=100)"
   ]
  },
  {
   "cell_type": "code",
   "execution_count": null,
   "metadata": {},
   "outputs": [],
   "source": [
    "current_dir = os.path.abspath('/tmp/var-attention/')\n",
    "\n",
    "if not os.path.exists(current_dir):\n",
    "    os.makedirs(current_dir)\n",
    "\n",
    "print('current_dir:', current_dir)"
   ]
  },
  {
   "cell_type": "code",
   "execution_count": 1,
   "metadata": {},
   "outputs": [],
   "source": [
    "# Load the data from kaggle"
   ]
  },
  {
   "cell_type": "code",
   "execution_count": null,
   "metadata": {},
   "outputs": [],
   "source": [
    "# Print out the data structure \n",
    "\n",
    "!ls /tmp/var-attention/data"
   ]
  },
  {
   "cell_type": "markdown",
   "metadata": {},
   "source": [
    "# Configuration"
   ]
  },
  {
   "cell_type": "code",
   "execution_count": null,
   "metadata": {},
   "outputs": [],
   "source": [
    "wrapper = textwrap.TextWrapper(width=100)\n",
    "\n",
    "data_dir = current_dir + '/data/'\n",
    "outputs_dir = current_dir + '/outputs/'\n",
    "arch_dir = outputs_dir + slugify(config['model']) + '/'\n",
    "outputs_data_dir = outputs_dir + 'data/'\n",
    "\n",
    "logs_dir = arch_dir + 'summary/'\n",
    "log_str_dir = arch_dir + 'outcome/'\n",
    "model_checkpoint_dir = arch_dir + 'checkpoints/var-seq2seq-with-atten-'\n",
    "bleu_path = arch_dir + 'bleu/det-seq2seq-var-attn'\n",
    "w2v_dir = outputs_data_dir\n",
    "w2v_path = w2v_dir + 'w2v_model_news.pkl'\n",
    "\n",
    "\n",
    "if not os.path.exists(data_dir):\n",
    "    os.makedirs(data_dir)\n",
    "\n",
    "if not os.path.exists(outputs_dir):\n",
    "    os.makedirs(outputs_dir)\n",
    "\n",
    "if not os.path.exists(arch_dir):\n",
    "    os.makedirs(arch_dir)\n",
    "    \n",
    "if not os.path.exists(w2v_dir):\n",
    "    os.makedirs(w2v_dir)\n",
    "\n",
    "print('Data dir:', data_dir)\n",
    "print('Outputs dir:', outputs_dir)\n",
    "print('Arch dir:', arch_dir)\n",
    "\n",
    "config['data_dir'] = data_dir\n",
    "config['logs_dir'] = logs_dir\n",
    "config['log_str_dir'] = log_str_dir\n",
    "config['model_checkpoint_dir'] = model_checkpoint_dir\n",
    "config['bleu_path'] = bleu_path\n",
    "config['wrapper'] = wrapper\n",
    "config['w2v_dir'] = w2v_dir"
   ]
  },
  {
   "cell_type": "code",
   "execution_count": null,
   "metadata": {},
   "outputs": [],
   "source": [
    "input_type = 'content'\n",
    "output_type = 'title'\n",
    "decoder_filters = encoder_filters = '!\"#$%&()*+/:;<=>@[\\\\]^`{|}~\\t\\n'"
   ]
  },
  {
   "cell_type": "markdown",
   "metadata": {},
   "source": [
    "# Dataset Preparation"
   ]
  },
  {
   "cell_type": "code",
   "execution_count": null,
   "metadata": {},
   "outputs": [],
   "source": [
    "from src.preparation import create_news_data\n",
    "\n",
    "print('[INFO] Importing the data')\n",
    "data_sources = [\n",
    "    os.path.join(config['data_dir'], 'articles1.csv'),\n",
    "    os.path.join(config['data_dir'], 'articles2.csv'),\n",
    "    os.path.join(config['data_dir'], 'articles3.csv'),\n",
    "]\n",
    "data = create_news_data(\n",
    "    data_sources,\n",
    "    num_samples=config['num_samples'],\n",
    "    preprocessing=config['preprocessing'])"
   ]
  },
  {
   "cell_type": "markdown",
   "metadata": {},
   "source": [
    "# Word2vec"
   ]
  },
  {
   "cell_type": "code",
   "execution_count": 4,
   "metadata": {},
   "outputs": [],
   "source": [
    "# from src.preparation import create_news_data\n",
    "\n",
    "\n",
    "# def load_data(num_samples=None, preprocessing=True):\n",
    "#     data_sources = [\n",
    "#         os.path.join(config['data_dir'], 'articles1.csv'),\n",
    "#         os.path.join(config['data_dir'], 'articles2.csv'),\n",
    "#         os.path.join(config['data_dir'], 'articles3.csv'),\n",
    "#     ]\n",
    "\n",
    "#     data = create_news_data(data_sources, num_samples=num_samples, preprocessing=preprocessing)\n",
    "\n",
    "#     return data\n",
    "\n",
    "\n",
    "# def create_w2v(sentences):\n",
    "#     np.random.shuffle(sentences)\n",
    "#     sentences = [WhitespaceTokenizer().tokenize(s) for s in sentences]\n",
    "#     w2v_model = gensim.models.Word2Vec(\n",
    "#         sentences,\n",
    "#         size=300,\n",
    "#         min_count=1,\n",
    "#         iter=50)\n",
    "#     w2v_model.save(config['w2v_dir'] + 'w2v_model_news.pkl')\n",
    "    \n",
    "\n",
    "# def init_w2v():\n",
    "#     data = load_data(num_samples=None, preprocessing=True)\n",
    "#     data = data['title'] + ' ' + data['content']\n",
    "#     create_w2v(data)\n",
    "#     print('Word2Vec created successfully.')"
   ]
  },
  {
   "cell_type": "code",
   "execution_count": null,
   "metadata": {},
   "outputs": [],
   "source": [
    "print('[INFO] Embeddings vector and matrix')\n",
    "\n",
    "word2vec = {}\n",
    "with open(os.path.join(config['data_dir'], 'numberbatch-en-17.06.txt'), encoding='utf-8') as infile:\n",
    "    for line in infile:\n",
    "        values = line.split()\n",
    "        word = values[0]\n",
    "        vec = np.asarray(values[1:], dtype='float32')\n",
    "        word2vec[word] = vec\n",
    "\n",
    "print('Found %s word vectors.' % len(word2vec))"
   ]
  },
  {
   "cell_type": "markdown",
   "metadata": {},
   "source": [
    "# Tokenization"
   ]
  },
  {
   "cell_type": "code",
   "execution_count": null,
   "metadata": {},
   "outputs": [],
   "source": [
    "from src.preparation import tokenize_sequence\n",
    "\n",
    "\n",
    "print('[INFO] Tokenizing input and output sequences')\n",
    "input_sentences = data[input_type].values\n",
    "output_sentences = data[output_type].values\n",
    "\n",
    "print('Inputs:', len(input_sentences))\n",
    "print('Outputs:', len(output_sentences))\n",
    "\n",
    "x, word2idx_inputs, x_sen = tokenize_sequence(\n",
    "    sentences=input_sentences,\n",
    "    max_num_words=config['encoder_num_tokens'],\n",
    "    max_vocab_size=config['encoder_vocab'],\n",
    "    filters=encoder_filters)\n",
    "\n",
    "y, word2idx_outputs, y_sen = tokenize_sequence(\n",
    "    sentences=output_sentences,\n",
    "    max_num_words=config['decoder_num_tokens'],\n",
    "    max_vocab_size=config['decoder_vocab'],\n",
    "    filters=decoder_filters)"
   ]
  },
  {
   "cell_type": "markdown",
   "metadata": {},
   "source": [
    "# Splitter"
   ]
  },
  {
   "cell_type": "code",
   "execution_count": null,
   "metadata": {},
   "outputs": [],
   "source": [
    "from src.preparation import create_data_split\n",
    "\n",
    "\n",
    "print('[INFO] Split data into train-valid-test sets')\n",
    "train_data, valid_data, test_data = create_data_split(\n",
    "    x=[x, x_sen],\n",
    "    y=[y, y_sen],\n",
    "    valid_size=.3,\n",
    "    test_size=.5,\n",
    "    verbose=True)\n",
    "(x_train, y_train, x_sen_train, y_sen_train) = train_data\n",
    "(x_valid, y_valid, x_sen_valid, y_sen_valid) = valid_data\n",
    "(x_test, y_test, x_sen_test, y_sen_test) = test_data"
   ]
  },
  {
   "cell_type": "markdown",
   "metadata": {},
   "source": [
    "# Embedding Matrix"
   ]
  },
  {
   "cell_type": "code",
   "execution_count": null,
   "metadata": {},
   "outputs": [],
   "source": [
    "from src.preparation import create_embedding_matrix\n",
    "\n",
    "\n",
    "print('[INFO] Embeddings vector and matrix')\n",
    "\n",
    "encoder_embeddings_matrix = create_embedding_matrix(\n",
    "    word_index=word2idx_inputs,\n",
    "    embedding_dim=config['embedding_size'],\n",
    "    w2v_path=word2vec)\n",
    "\n",
    "decoder_embeddings_matrix = create_embedding_matrix(\n",
    "    word_index=word2idx_outputs,\n",
    "    embedding_dim=config['embedding_size'],\n",
    "    w2v_path=word2vec)\n",
    "\n",
    "\n",
    "print('encoder_embeddings_matrix:', encoder_embeddings_matrix.shape)\n",
    "print('decoder_embeddings_matrix:', decoder_embeddings_matrix.shape)\n",
    "\n",
    "# Re-calculate the vocab size based on the word_idx dictionary\n",
    "config['encoder_vocab'] = len(word2idx_inputs)\n",
    "config['decoder_vocab'] = len(word2idx_outputs)"
   ]
  },
  {
   "cell_type": "markdown",
   "metadata": {},
   "source": [
    "# Model"
   ]
  },
  {
   "cell_type": "code",
   "execution_count": null,
   "metadata": {},
   "outputs": [],
   "source": [
    "import tensorflow as tf\n",
    "from src.ved import VarSeq2SeqVarAttnModel\n",
    "\n",
    "\n",
    "tf.reset_default_graph()\n",
    "tf_config = tf.ConfigProto()\n",
    "tf_config.gpu_options.allow_growth = True\n",
    "session = tf.Session(config=tf_config)\n",
    "\n",
    "\n",
    "model = VarSeq2SeqVarAttnModel(\n",
    "    config=config,\n",
    "    encoder_embeddings_matrix=encoder_embeddings_matrix,\n",
    "    decoder_embeddings_matrix=decoder_embeddings_matrix,\n",
    "    encoder_word_index=word2idx_inputs,\n",
    "    decoder_word_index=word2idx_outputs)\n",
    "\n",
    "model.train(x_train, y_train, x_valid, y_valid, y_sen_valid)"
   ]
  },
  {
   "cell_type": "markdown",
   "metadata": {},
   "source": [
    "# Prediction and Evaluation"
   ]
  },
  {
   "cell_type": "code",
   "execution_count": null,
   "metadata": {},
   "outputs": [],
   "source": [
    "if config['load_checkpoint'] != 0:\n",
    "    checkpoint = config['model_checkpoint_dir'] + str(config['load_checkpoint']) + '.ckpt'\n",
    "else:\n",
    "    checkpoint = tf.train.get_checkpoint_state(os.path.dirname('models/checkpoint')).model_checkpoint_path\n",
    "\n",
    "print('checkpoint:', checkpoint)\n",
    "\n",
    "preds = model.predict(checkpoint, x_test, y_test, y_sen_test)"
   ]
  },
  {
   "cell_type": "code",
   "execution_count": null,
   "metadata": {},
   "outputs": [],
   "source": [
    "count = 5\n",
    "model.show_output_sentences(\n",
    "    preds[:count],\n",
    "    y_test[:count],\n",
    "    x_sen_test[:count],\n",
    "    y_sen_test[:count])\n",
    "\n",
    "model.get_diversity_metrics(checkpoint, x_test, y_test)"
   ]
  }
 ],
 "metadata": {
  "kernelspec": {
   "display_name": "Python3 (AI)",
   "language": "python",
   "name": "ai"
  },
  "language_info": {
   "codemirror_mode": {
    "name": "ipython",
    "version": 3
   },
   "file_extension": ".py",
   "mimetype": "text/x-python",
   "name": "python",
   "nbconvert_exporter": "python",
   "pygments_lexer": "ipython3",
   "version": "3.5.6"
  }
 },
 "nbformat": 4,
 "nbformat_minor": 2
}
